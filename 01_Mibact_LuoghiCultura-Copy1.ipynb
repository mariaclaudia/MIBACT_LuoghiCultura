{
 "cells": [
  {
   "cell_type": "markdown",
   "metadata": {},
   "source": [
    "# MIBACT Luoghi della cultura\n",
    "## Data exploration\n"
   ]
  },
  {
   "cell_type": "markdown",
   "metadata": {},
   "source": [
    "## Luoghi della cultura\n",
    "\n",
    "I luoghi della cultura italiani raccolgono informazioni anagrafiche su: musei, aree archeologiche, monumenti, ville, etc. La banca dati viene manutenuta continuamente dal personale MiBAC e da personale e sistemi delle amministrazioni regionali.\n",
    "\n",
    "Gli unique sul campo sono circa 6.604 a fronte di 52.392 record scaricati."
   ]
  },
  {
   "cell_type": "code",
   "execution_count": 1,
   "metadata": {},
   "outputs": [],
   "source": [
    "import pandas as pd\n",
    "import numpy as np"
   ]
  },
  {
   "cell_type": "markdown",
   "metadata": {},
   "source": [
    "### Script per estrazione luoghi cultura \n",
    "\n",
    "Per completezza lo si riporta all'interno del notebook.\n",
    "\n",
    "inserire link a sorgente in repo"
   ]
  },
  {
   "cell_type": "code",
   "execution_count": null,
   "metadata": {},
   "outputs": [],
   "source": [
    "import urllib.request\n",
    "import time\n",
    "import os\n",
    "import json\n",
    "import sys\n",
    "import pysftp\n",
    "\n",
    "print('Querying MIBACT endpoint for \"Luoghi della cultura\" dataset')\n",
    "outfilepath = './data/mibact_luoghi_cultura_' + str(int(time.time())) + '.csv'\n",
    "\n",
    "sparql_endpoint = 'http://dati.beniculturali.it/sparql?default-graph-uri=&'\n",
    "\n",
    "# parametri per la paginazione\n",
    "limit = 10000\n",
    "offset = 0\n",
    "\n",
    "# select per le query\n",
    "select = 'select+*+'\n",
    "select_count = 'select+count(*)+as+%3Fc+'\n",
    "\n",
    "# corpo della query\n",
    "where = 'where+{+select+distinct+%3Fs+as+%3Fsubject+%3FNome_Istituzionale+%3FDescrizione+%3FDescription+%3FISILIdentifier+%3FLatitudine+%3FLongitudine+%3FDisciplina+%3FTipo_luogo+%3FIndirizzo+%3FCodice_postale+%3FComune+%3FProvincia+%3FPrenotazioni+%3FOrari_di_apertura+%3FTelefono+%3FFax+%3FEmail+%3FWebSite+str%28%3FBiglietti%29+as+%3FBiglietti+%3FServizi+where+%7B+graph+%3Chttp%3A%2F%2Fdati.beniculturali.it%2Fmibact%2Fluoghi%3E+%7B+%3Fs+rdf%3Atype+cis%3ACulturalInstituteOrSite+%3B+cis%3AinstitutionalName+%3FNome_Istituzionale+.+optional+%7B+%3Fs+cis%3Adescription+%3FDescrizione+.+filter%28lang%28%3FDescrizione%29+%3D+%22it%22+%7C%7C+lang%28%3FDescrizione%29+%3D+%22%22%29+%7D+optional+%7B+%3Fs+cis%3Adescription+%3FDescription+.+filter%28lang%28%3FDescription%29+%3D+%22en%22%29+%7D+optional+%7B+%3Fs+cis%3AISILIdentifier+%3FISILIdentifier+%7D+optional+%7B+%3Fs+geo%3Alat+%3FLatitudine+%7D+optional+%7B+%3Fs+geo%3Along+%3FLongitudine+%7D+optional+%7B+%3Fs+dc%3Atype+%3FTipo_luogo+%7D+optional+%7B+%3Fs+cis%3AhasDiscipline+%5Bcis%3Aname+%3FDisciplina%5D+%7D+optional+%7B+%3Fs+cis%3AhasSite+%5Bcis%3AhasAddress+%3Faddress+%5D+.+optional+%7B+%3Faddress+cis%3AfullAddress+%3FIndirizzo+%7D+optional+%7B+%3Faddress+cis%3ApostCode+%3FCodice_postale+%7D+optional+%7B+%3Faddress+cis%3ApostName+%3FComune+%7D+optional+%7B+%3Faddress+cis%3AadminUnitL2+%3FProvincia+%7D+%7D+optional+%7B%3Fs+cis%3AhasAccessCondition+%5Brdf%3Atype+cis%3ABooking+%3B+cis%3Aname+%3FPrenotazioni%5D+%7D+optional+%7B%3Fs+cis%3AhasAccessCondition+%5Brdf%3Atype+cis%3AOpeningHoursSpecification+%3B+cis%3Adescription+%3FOrari_di_apertura+%5D+%7D+optional+%7B+%3Fs+cis%3AhasContactPoint+%3FcontactPoint+.+optional+%7B+%3FcontactPoint+cis%3AhasTelephone+%3FTelefono+%7D+optional+%7B+%3FcontactPoint+cis%3AhasFax+%3FFax+%7D+optional+%7B+%3FcontactPoint+cis%3AhasEmail+%3FEmail+%7D+optional+%7B+%3FcontactPoint+cis%3AhasWebSite+%3FWebSite+%7D+%7D+optional+%7B+%3Fs+cis%3AhasTicket+%3Fticket+.+%3Foffer+cis%3Aincludes+%3Fticket+%3B+cis%3AhasPriceSpecification+%5Bcis%3AhasCurrencyValue+%3FBiglietti%5D+%7D+optional+%7B+%3Fs+cis%3AprovidesService+%5Bcis%3Aname+%3FServizi%5D+%7D+%7D+%7D+order+by+%3Fs+}'\n",
    "\n",
    "# formati della risposta\n",
    "format_json ='&format=application%2Fjson&timeout=0'\n",
    "format_csv ='&format=text%2Fcsv&timeout=0'\n",
    "\n",
    "# interrogazione per recuperare il numero di elementi\n",
    "query = 'query=' + select_count + where + format_json\n",
    "with urllib.request.urlopen(sparql_endpoint + query) as response:\n",
    "    res = response.read()\n",
    "res_json = json.loads(res.decode(\"utf-8\"))\n",
    "record_count = res_json.get('results').get('bindings')[0].get('c').get('value')\n",
    "print('Total number of records: ' + record_count)\n",
    "\n",
    "# scarico le singole pagine\n",
    "tempfilenames = []\n",
    "while offset < int(record_count):\n",
    "    query = 'query=' + select + where + 'limit+' + str(limit) + '+offset+' + str(offset) + format_csv\n",
    "    filename = outfilepath + '.' + str(offset)\n",
    "    tempfilenames.append(filename)\n",
    "    print('Fetching {} record with offset {} in {}'.format(str(limit), str(offset), filename))\n",
    "    #TODO: gestire eccezioni\n",
    "    local_filename, headers = urllib.request.urlretrieve(sparql_endpoint + query, filename)\n",
    "    offset += limit\n",
    "\n",
    "# recupero la riga di intestazione dal primo file per poterla aggiungere al file finale di output\n",
    "header = ''\n",
    "with open(tempfilenames[0], 'r') as f:\n",
    "    header = f.readline()\n",
    "\n",
    "# unisco i file in un unico csv, saltando la riga di intestazione\n",
    "with open(outfilepath, 'a') as outfile:\n",
    "    outfile.write(header)\n",
    "    for filename in tempfilenames:\n",
    "        with open(filename, 'r') as infile:\n",
    "            next(infile)\n",
    "            for line in infile:\n",
    "                outfile.write(line)\n",
    "print('Results collected in ' + outfilepath)\n"
   ]
  },
  {
   "cell_type": "markdown",
   "metadata": {},
   "source": [
    "### Carico il dataset estratto da script "
   ]
  },
  {
   "cell_type": "code",
   "execution_count": 2,
   "metadata": {},
   "outputs": [
    {
     "name": "stderr",
     "output_type": "stream",
     "text": [
      "/Users/mariaclaudiabodino/anaconda3/envs/py36/lib/python3.6/site-packages/IPython/core/interactiveshell.py:2728: DtypeWarning: Columns (10) have mixed types. Specify dtype option on import or set low_memory=False.\n",
      "  interactivity=interactivity, compiler=compiler, result=result)\n"
     ]
    }
   ],
   "source": [
    "lc = pd.read_csv(\"../data/1_raw/mibact_luoghi_cultura_1533651167.csv\")"
   ]
  },
  {
   "cell_type": "code",
   "execution_count": 3,
   "metadata": {},
   "outputs": [
    {
     "data": {
      "text/plain": [
       "Index(['subject', 'Nome_Istituzionale', 'Descrizione', 'Description',\n",
       "       'ISILIdentifier', 'Latitudine', 'Longitudine', 'Disciplina',\n",
       "       'Tipo_luogo', 'Indirizzo', 'Codice_postale', 'Comune', 'Provincia',\n",
       "       'Prenotazioni', 'Orari_di_apertura', 'Telefono', 'Fax', 'Email',\n",
       "       'WebSite', 'Biglietti', 'Servizi'],\n",
       "      dtype='object')"
      ]
     },
     "execution_count": 3,
     "metadata": {},
     "output_type": "execute_result"
    }
   ],
   "source": [
    "lc.columns"
   ]
  },
  {
   "cell_type": "code",
   "execution_count": 4,
   "metadata": {},
   "outputs": [
    {
     "data": {
      "text/plain": [
       "array([nan])"
      ]
     },
     "execution_count": 4,
     "metadata": {},
     "output_type": "execute_result"
    }
   ],
   "source": [
    "lc.ISILIdentifier.unique()"
   ]
  },
  {
   "cell_type": "code",
   "execution_count": 5,
   "metadata": {},
   "outputs": [
    {
     "data": {
      "text/plain": [
       "(52392, 21)"
      ]
     },
     "execution_count": 5,
     "metadata": {},
     "output_type": "execute_result"
    }
   ],
   "source": [
    "lc.shape"
   ]
  },
  {
   "cell_type": "markdown",
   "metadata": {},
   "source": [
    "### Creo lista per Google Places basandoci  su \"Nome_Istituzionale\" e \"Comune\""
   ]
  },
  {
   "cell_type": "code",
   "execution_count": 6,
   "metadata": {},
   "outputs": [],
   "source": [
    "lc[\"Nome_Istituzionale_Comune\"]= lc['Nome_Istituzionale'] + \",\"+ lc[\"Comune\"]"
   ]
  },
  {
   "cell_type": "code",
   "execution_count": 7,
   "metadata": {},
   "outputs": [],
   "source": [
    "#Pulitura campi\n",
    "lc['Nome_Istituzionale_Comune'] = lc['Nome_Istituzionale_Comune'].str.replace(\"-\",' ')\n",
    "lc['Nome_Istituzionale_Comune'] = lc['Nome_Istituzionale_Comune'].str.replace('\"',' ')\n",
    "lc['Nome_Istituzionale_Comune']= lc['Nome_Istituzionale_Comune'].str.replace(\"\\r\\n\",' ')\n",
    "lc['Nome_Istituzionale_Comune'] = lc['Nome_Istituzionale_Comune'].str.replace(\"  \",\" \")\n",
    "#TRIM spazi\n",
    "lc['Nome_Istituzionale_Comune'] = lc['Nome_Istituzionale_Comune'].str.strip()"
   ]
  },
  {
   "cell_type": "code",
   "execution_count": 8,
   "metadata": {},
   "outputs": [],
   "source": [
    "lc_ = lc['Nome_Istituzionale_Comune'].unique()"
   ]
  },
  {
   "cell_type": "code",
   "execution_count": 9,
   "metadata": {},
   "outputs": [
    {
     "data": {
      "text/plain": [
       "6620"
      ]
     },
     "execution_count": 9,
     "metadata": {},
     "output_type": "execute_result"
    }
   ],
   "source": [
    "len(lc_)"
   ]
  },
  {
   "cell_type": "markdown",
   "metadata": {},
   "source": [
    "### Check su campo originale e campo derivato "
   ]
  },
  {
   "cell_type": "code",
   "execution_count": 10,
   "metadata": {},
   "outputs": [
    {
     "data": {
      "text/plain": [
       "Museo delle Civiltà                                                                  5632\n",
       "Parco archeologico del Colosseo - Foro romano e Palatino                              800\n",
       "Biblioteca Nazionale Centrale di Firenze                                              640\n",
       "Castello Bufalini                                                                     576\n",
       "Museo nazionale romano - Palazzo Massimo                                              576\n",
       "Museo della Comunità ebraica di Trieste Carlo e Vera Wagner                           320\n",
       "Museo delle Civiltà - Museo nazionale d’arte orientale 'Giuseppe Tucci'               320\n",
       "Museo nazionale del Bargello - Museo delle Cappelle Medicee                           320\n",
       "MUNDA - Museo nazionale d'Abruzzo                                                     288\n",
       "Galleria nazionale dell'Umbria                                                        256\n",
       "Pinacoteca di Brera                                                                   240\n",
       "Mini Mu                                                                               240\n",
       "Parco archeologico dell'Appia antica - Villa dei Quintili e S. Maria Nova             240\n",
       "Museo d’arte orientale                                                                224\n",
       "Gallerie degli Uffizi – Gli Uffizi                                                    224\n",
       "Fortezza di  Castruccio Castracani - Castello di Sarzanello                           216\n",
       "Gallerie degli Uffizi - Galleria palatina e appartamenti reali                        208\n",
       "MAF Museo archeologico nazionale di Firenze                                           208\n",
       "Museo nazionale Collezione Salce                                                      208\n",
       "Palazzo ducale di Gubbio                                                              208\n",
       "Complesso monumentale della Pilotta - Galleria nazionale di Parma                     208\n",
       "Parco archeologico di Ostia antica - Scavi di Ostia antica e Museo Ostiense           208\n",
       "Museo archeologico nazionale \"La Civitella\"                                           192\n",
       "Museo Nazionale del Bargello                                                          192\n",
       "Museo delle Civiltà - Museo nazionale preistorico ed etnografico \"Luigi Pigorini\"     192\n",
       "Museo archeologico nazionale di Napoli                                                192\n",
       "Archivio di Stato di Salerno                                                          192\n",
       "Museo di Capodimonte                                                                  176\n",
       "Castello di Copertino                                                                 176\n",
       "Villa Adriana e Villa d'Este - Villa d'Este                                           176\n",
       "                                                                                     ... \n",
       "MACS - Museo d'Arte e Cultura Sacra                                                     1\n",
       "Museo civico di zoologia di Roma                                                        1\n",
       "Museo della Resistenza \"S. D'Acquisto\"                                                  1\n",
       "Museo del confetto \"Giovanni Mucci\"                                                     1\n",
       "Museo archeologico di Nepi                                                              1\n",
       "Museo etnografico Valle del Lujo                                                        1\n",
       "Casa di Edvige Carboni                                                                  1\n",
       "Oggetti di civiltà contadina                                                            1\n",
       "Museo civico \"G. Ugonia\"                                                                1\n",
       "Museo civico di Amalfi                                                                  1\n",
       "F.R.A.C. (Fondo regionale d’arte contemporanea)                                         1\n",
       "Ecomuseo del Basso Monferrato astigiano                                                 1\n",
       "Museo internazionale del presepio di Morrovalle                                         1\n",
       "Museo del castello di Fumone                                                            1\n",
       "Chiesa di San Giovanni in Tuba                                                          1\n",
       "Museo archeologico di Sezze                                                             1\n",
       "Centro studi sul Quaternario onlus                                                      1\n",
       "Vetrine archeologiche di Fornace Frazzi                                                 1\n",
       "Istituto delle Suore Benedettine della Provvidenza                                      1\n",
       "Museo zoologico didattico                                                               1\n",
       "Museo del tessuto e Casa dell’emigrante                                                 1\n",
       "Eremo di Sant'Onofrio al Morrone o di Celestino V                                       1\n",
       "Musei del seminario vescovile                                                           1\n",
       "Musei civici di Palazzo Belgioioso                                                      1\n",
       "Musei civici di arte antica - Casa dell'Ariosto                                         1\n",
       "Museo del Parmigiano reggiano - Civiltà contadina e artigiana della Val d'Enza          1\n",
       "Teatro civico di Norcia                                                                 1\n",
       "Museo comunale di storia naturale ed arte mineraria                                     1\n",
       "Museo diocesano e Basilica di Sant'Eufemia                                              1\n",
       "Museo del costume Arberesh                                                              1\n",
       "Name: Nome_Istituzionale, Length: 6604, dtype: int64"
      ]
     },
     "execution_count": 10,
     "metadata": {},
     "output_type": "execute_result"
    }
   ],
   "source": [
    "lc[\"Nome_Istituzionale\"].value_counts()"
   ]
  },
  {
   "cell_type": "code",
   "execution_count": 12,
   "metadata": {
    "scrolled": true
   },
   "outputs": [
    {
     "data": {
      "text/plain": [
       "Museo delle Civiltà,Roma                                                                          5632\n",
       "Parco archeologico del Colosseo  Foro romano e Palatino,Roma                                       800\n",
       "Biblioteca Nazionale Centrale di Firenze,Firenze                                                   640\n",
       "Museo nazionale romano  Palazzo Massimo ,Roma                                                      576\n",
       "Castello Bufalini,San Giustino                                                                     576\n",
       "Museo della Comunità ebraica di Trieste Carlo e Vera Wagner,Trieste                                320\n",
       "Museo delle Civiltà  Museo nazionale d’arte orientale 'Giuseppe Tucci',Roma                        320\n",
       "Museo nazionale del Bargello  Museo delle Cappelle Medicee,Firenze                                 320\n",
       "MUNDA  Museo nazionale d'Abruzzo,L'Aquila                                                          288\n",
       "Galleria nazionale dell'Umbria,Perugia                                                             256\n",
       "Parco archeologico dell'Appia antica  Villa dei Quintili e S. Maria Nova,Roma                      240\n",
       "Pinacoteca di Brera,Milano                                                                         240\n",
       "Mini Mu,Trieste                                                                                    240\n",
       "Gallerie degli Uffizi – Gli Uffizi  ,Firenze                                                       224\n",
       "Museo d’arte orientale,Venezia                                                                     224\n",
       "Fortezza di Castruccio Castracani  Castello di Sarzanello ,Sarzana                                 216\n",
       "MAF Museo archeologico nazionale di Firenze,Firenze                                                208\n",
       "Parco archeologico di Ostia antica  Scavi di Ostia antica e Museo Ostiense,Roma                    208\n",
       "Museo nazionale Collezione Salce,Treviso                                                           208\n",
       "Palazzo ducale di Gubbio,Gubbio                                                                    208\n",
       "Complesso monumentale della Pilotta  Galleria nazionale di Parma,Parma                             208\n",
       "Gallerie degli Uffizi  Galleria palatina e appartamenti reali,Firenze                              208\n",
       "Archivio di Stato di Salerno,Salerno                                                               192\n",
       "Museo delle Civiltà  Museo nazionale preistorico ed etnografico Luigi Pigorini ,Roma               192\n",
       "Museo archeologico nazionale di Napoli,Napoli                                                      192\n",
       "Museo archeologico nazionale La Civitella ,Chieti                                                  192\n",
       "Museo Nazionale del Bargello,Firenze                                                               192\n",
       "Villa Adriana e Villa d'Este  Villa d'Este,Tivoli                                                  176\n",
       "Museo di Capodimonte,Napoli                                                                        176\n",
       "Castello di Copertino,Copertino                                                                    176\n",
       "                                                                                                  ... \n",
       "Casa Carducci,Bologna                                                                                1\n",
       "Museo dell'ocarina e degli strumenti musicali in terracotta,Budrio                                   1\n",
       "Museo civico e diocesano di Norcia,Norcia                                                            1\n",
       "Complesso Monumentale di Santa Caterina ,Finale Ligure                                               1\n",
       "Musei civici: sez. del territorio,Finale Emilia                                                      1\n",
       "Museo civico di scienze naturali di Randazzo,Randazzo                                                1\n",
       "Museo di storia naturale di Cittanova (Italia),Cittanova                                             1\n",
       "Museo nazionale della fotografia Cav. Alberto Sorlini,Brescia                                        1\n",
       "Villa Fidelia,Spello                                                                                 1\n",
       "Museo del borgo,Amato                                                                                1\n",
       "Galleria del Premio Suzzara,Suzzara                                                                  1\n",
       "Museo d’arte moderna e contemporanea Aurelio De Felice  CAOS (Centro Arti Opificio Siri),Terni       1\n",
       "Museo della civiltà contadina di Todi,Todi                                                           1\n",
       "Museo della civiltà contadina G. Riccardi ,Zibello                                                   1\n",
       "Palazzo Trinci,Foligno                                                                               1\n",
       "Antiquarium Filippo Buonopane,Grottaminarda                                                          1\n",
       "Castello di Oria,Oria                                                                                1\n",
       "Museo archeologico  CAOS (Centro Arti Opificio Siri),Terni                                           1\n",
       "Centro socio culturale,Niscemi                                                                       1\n",
       "Sacro Monte di Crea,Serralunga di Crea                                                               1\n",
       "Pinacoteca,Civitella Roveto                                                                          1\n",
       "Raccolta di campane,Russi                                                                            1\n",
       "Museo della vite e del vino di Ciggiano,Civitella in Val di Chiana                                   1\n",
       "Museo archeologico regionale Antonino Salinas ,Palermo                                               1\n",
       "Museo civico Della gente senza storia ,Altavilla Irpina                                              1\n",
       "Caslello Colonna  Centro internazionale d’arte contemporanea Ciac,Genazzano                          1\n",
       "Museo diocesano di arte sacra di Pontremoli,Pontremoli                                               1\n",
       "Area archeologica delle terme romane,Fordongianus                                                    1\n",
       "Fortezza pisana,Marciana                                                                             1\n",
       "Centro studi Colocrisi,Reggio di Calabria                                                            1\n",
       "Name: Nome_Istituzionale_Comune, Length: 6620, dtype: int64"
      ]
     },
     "execution_count": 12,
     "metadata": {},
     "output_type": "execute_result"
    }
   ],
   "source": [
    "lc.Nome_Istituzionale_Comune.value_counts()"
   ]
  },
  {
   "cell_type": "code",
   "execution_count": 13,
   "metadata": {},
   "outputs": [
    {
     "data": {
      "text/html": [
       "<div>\n",
       "<style scoped>\n",
       "    .dataframe tbody tr th:only-of-type {\n",
       "        vertical-align: middle;\n",
       "    }\n",
       "\n",
       "    .dataframe tbody tr th {\n",
       "        vertical-align: top;\n",
       "    }\n",
       "\n",
       "    .dataframe thead th {\n",
       "        text-align: right;\n",
       "    }\n",
       "</style>\n",
       "<table border=\"1\" class=\"dataframe\">\n",
       "  <thead>\n",
       "    <tr style=\"text-align: right;\">\n",
       "      <th></th>\n",
       "      <th>subject</th>\n",
       "      <th>Nome_Istituzionale</th>\n",
       "      <th>Descrizione</th>\n",
       "      <th>Description</th>\n",
       "      <th>ISILIdentifier</th>\n",
       "      <th>Latitudine</th>\n",
       "      <th>Longitudine</th>\n",
       "      <th>Disciplina</th>\n",
       "      <th>Tipo_luogo</th>\n",
       "      <th>Indirizzo</th>\n",
       "      <th>...</th>\n",
       "      <th>Provincia</th>\n",
       "      <th>Prenotazioni</th>\n",
       "      <th>Orari_di_apertura</th>\n",
       "      <th>Telefono</th>\n",
       "      <th>Fax</th>\n",
       "      <th>Email</th>\n",
       "      <th>WebSite</th>\n",
       "      <th>Biglietti</th>\n",
       "      <th>Servizi</th>\n",
       "      <th>Nome_Istituzionale_Comune</th>\n",
       "    </tr>\n",
       "  </thead>\n",
       "  <tbody>\n",
       "    <tr>\n",
       "      <th>48689</th>\n",
       "      <td>http://dati.beniculturali.it/mibact/luoghi/res...</td>\n",
       "      <td>Castello Bufalini</td>\n",
       "      <td>&lt;p&gt;Castello Bufalini nasce come fortilizio mil...</td>\n",
       "      <td>&lt;span id=\"result_box\" lang=\"en\"&gt;&lt;span title=\"C...</td>\n",
       "      <td>NaN</td>\n",
       "      <td>43.54936</td>\n",
       "      <td>12.176403</td>\n",
       "      <td>Altro</td>\n",
       "      <td>Villa o palazzo di interesse storico o artistico</td>\n",
       "      <td>via Largo Crociani, 3 - San Giustino</td>\n",
       "      <td>...</td>\n",
       "      <td>Perugia</td>\n",
       "      <td>Nessuna</td>\n",
       "      <td>Ottobre-Marzo: Lunedì-Sabato; Aprile-Settembre...</td>\n",
       "      <td>+39 075 856115</td>\n",
       "      <td>NaN</td>\n",
       "      <td>mailto:pm-umb@beniculturali.it</td>\n",
       "      <td>http://polomusealeumbria.beniculturali.it/?pag...</td>\n",
       "      <td>Castello 2 €; Parco 1 €</td>\n",
       "      <td>Archivio</td>\n",
       "      <td>Castello Bufalini,San Giustino</td>\n",
       "    </tr>\n",
       "    <tr>\n",
       "      <th>48690</th>\n",
       "      <td>http://dati.beniculturali.it/mibact/luoghi/res...</td>\n",
       "      <td>Castello Bufalini</td>\n",
       "      <td>&lt;p&gt;Castello Bufalini nasce come fortilizio mil...</td>\n",
       "      <td>&lt;span id=\"result_box\" lang=\"en\"&gt;&lt;span title=\"C...</td>\n",
       "      <td>NaN</td>\n",
       "      <td>43.54936</td>\n",
       "      <td>12.176403</td>\n",
       "      <td>Altro</td>\n",
       "      <td>Villa o palazzo di interesse storico o artistico</td>\n",
       "      <td>via Largo Crociani, 3 - San Giustino</td>\n",
       "      <td>...</td>\n",
       "      <td>Perugia</td>\n",
       "      <td>Nessuna</td>\n",
       "      <td>October-March: Monday-Saturday; April-Septembe...</td>\n",
       "      <td>+39 075 856115</td>\n",
       "      <td>NaN</td>\n",
       "      <td>mailto:pm-umb@beniculturali.it</td>\n",
       "      <td>http://polomusealeumbria.beniculturali.it/?pag...</td>\n",
       "      <td>Castello 2 €; Parco 1 €</td>\n",
       "      <td>Archivio</td>\n",
       "      <td>Castello Bufalini,San Giustino</td>\n",
       "    </tr>\n",
       "  </tbody>\n",
       "</table>\n",
       "<p>2 rows × 22 columns</p>\n",
       "</div>"
      ],
      "text/plain": [
       "                                                 subject Nome_Istituzionale  \\\n",
       "48689  http://dati.beniculturali.it/mibact/luoghi/res...  Castello Bufalini   \n",
       "48690  http://dati.beniculturali.it/mibact/luoghi/res...  Castello Bufalini   \n",
       "\n",
       "                                             Descrizione  \\\n",
       "48689  <p>Castello Bufalini nasce come fortilizio mil...   \n",
       "48690  <p>Castello Bufalini nasce come fortilizio mil...   \n",
       "\n",
       "                                             Description  ISILIdentifier  \\\n",
       "48689  <span id=\"result_box\" lang=\"en\"><span title=\"C...             NaN   \n",
       "48690  <span id=\"result_box\" lang=\"en\"><span title=\"C...             NaN   \n",
       "\n",
       "       Latitudine  Longitudine Disciplina  \\\n",
       "48689    43.54936    12.176403      Altro   \n",
       "48690    43.54936    12.176403      Altro   \n",
       "\n",
       "                                             Tipo_luogo  \\\n",
       "48689  Villa o palazzo di interesse storico o artistico   \n",
       "48690  Villa o palazzo di interesse storico o artistico   \n",
       "\n",
       "                                  Indirizzo               ...                \\\n",
       "48689  via Largo Crociani, 3 - San Giustino               ...                 \n",
       "48690  via Largo Crociani, 3 - San Giustino               ...                 \n",
       "\n",
       "      Provincia Prenotazioni  \\\n",
       "48689   Perugia      Nessuna   \n",
       "48690   Perugia      Nessuna   \n",
       "\n",
       "                                       Orari_di_apertura        Telefono  Fax  \\\n",
       "48689  Ottobre-Marzo: Lunedì-Sabato; Aprile-Settembre...  +39 075 856115  NaN   \n",
       "48690  October-March: Monday-Saturday; April-Septembe...  +39 075 856115  NaN   \n",
       "\n",
       "                                Email  \\\n",
       "48689  mailto:pm-umb@beniculturali.it   \n",
       "48690  mailto:pm-umb@beniculturali.it   \n",
       "\n",
       "                                                 WebSite  \\\n",
       "48689  http://polomusealeumbria.beniculturali.it/?pag...   \n",
       "48690  http://polomusealeumbria.beniculturali.it/?pag...   \n",
       "\n",
       "                     Biglietti   Servizi       Nome_Istituzionale_Comune  \n",
       "48689  Castello 2 €; Parco 1 €  Archivio  Castello Bufalini,San Giustino  \n",
       "48690  Castello 2 €; Parco 1 €  Archivio  Castello Bufalini,San Giustino  \n",
       "\n",
       "[2 rows x 22 columns]"
      ]
     },
     "execution_count": 13,
     "metadata": {},
     "output_type": "execute_result"
    }
   ],
   "source": [
    "lc[lc.Nome_Istituzionale==\"Castello Bufalini\"].head(2)"
   ]
  },
  {
   "cell_type": "code",
   "execution_count": 14,
   "metadata": {},
   "outputs": [
    {
     "data": {
      "text/plain": [
       "(6620,)"
      ]
     },
     "execution_count": 14,
     "metadata": {},
     "output_type": "execute_result"
    }
   ],
   "source": [
    "lc_.shape"
   ]
  },
  {
   "cell_type": "markdown",
   "metadata": {},
   "source": [
    "### Preparo lista con i vari luoghi in distinct della cultura per i quali dobbiamo abbinare un identificativo (Google places)\n",
    "\n",
    "A fronte di un dataset iniziale con più di 50.000 record, sono 6620 i record che si distinguono per nome "
   ]
  },
  {
   "cell_type": "code",
   "execution_count": 73,
   "metadata": {},
   "outputs": [],
   "source": [
    "df = pd.DataFrame(lc_, columns = [\"place\"])"
   ]
  },
  {
   "cell_type": "code",
   "execution_count": 74,
   "metadata": {},
   "outputs": [],
   "source": [
    "df.to_csv(\"../data/2_raw_geo/LuoghiCulturaUnique.csv\", index=False)"
   ]
  },
  {
   "cell_type": "markdown",
   "metadata": {},
   "source": [
    "### Suddivido la lista con i luoghi in più chunk \n",
    "per comodità di esecuzione per lo script che va a chiamare le API di Google Places, oltre che a salvare il csv con tutti gli elementi, lo suddivido in chunk "
   ]
  },
  {
   "cell_type": "code",
   "execution_count": 104,
   "metadata": {},
   "outputs": [
    {
     "data": {
      "text/plain": [
       "(6620, 1)"
      ]
     },
     "execution_count": 104,
     "metadata": {},
     "output_type": "execute_result"
    }
   ],
   "source": [
    "df.shape"
   ]
  },
  {
   "cell_type": "code",
   "execution_count": 90,
   "metadata": {},
   "outputs": [
    {
     "name": "stdout",
     "output_type": "stream",
     "text": [
      "Shape: (1000, 1); RangeIndex(start=0, stop=1000, step=1)\n",
      "Shape: (1000, 1); RangeIndex(start=1000, stop=2000, step=1)\n",
      "Shape: (1000, 1); RangeIndex(start=2000, stop=3000, step=1)\n",
      "Shape: (1000, 1); RangeIndex(start=3000, stop=4000, step=1)\n",
      "Shape: (1000, 1); RangeIndex(start=4000, stop=5000, step=1)\n",
      "Shape: (1000, 1); RangeIndex(start=5000, stop=6000, step=1)\n",
      "Shape: (620, 1); RangeIndex(start=6000, stop=6620, step=1)\n"
     ]
    }
   ],
   "source": [
    "def index_marks(nrows, chunk_size):\n",
    "    return range(1 * chunk_size, (nrows // chunk_size + 1) * chunk_size, chunk_size)\n",
    "\n",
    "def split(dfm, chunk_size):\n",
    "    indices = index_marks(dfm.shape[0], chunk_size)\n",
    "    return np.split(dfm, indices)"
   ]
  },
  {
   "cell_type": "code",
   "execution_count": null,
   "metadata": {},
   "outputs": [],
   "source": [
    "chunks = split(df, 1000)\n",
    "\n",
    "for c in chunks:\n",
    "    c.to_csv(\"../data/2_raw_geo/LuoghiCulturaUnique\"+str(c.index)+\".csv\", index=False)\n",
    "    print(\"Shape: {}; {}\".format(c.shape, c.index))"
   ]
  },
  {
   "cell_type": "markdown",
   "metadata": {},
   "source": [
    "### API Google places"
   ]
  },
  {
   "cell_type": "markdown",
   "metadata": {},
   "source": [
    "Eseguo lo steso script GooglePlaces.py in /src.\n",
    "\n",
    "L'output è stato salvato nella cartella data/2_geocoded "
   ]
  },
  {
   "cell_type": "markdown",
   "metadata": {},
   "source": [
    "### Concateno i vai file generati dallo script in un unico dataframe che metterò in join con il dataset iniziale"
   ]
  },
  {
   "cell_type": "code",
   "execution_count": 15,
   "metadata": {},
   "outputs": [],
   "source": [
    "import glob\n",
    "luoghi_geo = pd.concat([pd.read_csv(f) for f in glob.glob('../data/2_raw_geocoded/*.csv')])"
   ]
  },
  {
   "cell_type": "code",
   "execution_count": 16,
   "metadata": {},
   "outputs": [
    {
     "data": {
      "text/plain": [
       "(6620, 7)"
      ]
     },
     "execution_count": 16,
     "metadata": {},
     "output_type": "execute_result"
    }
   ],
   "source": [
    "luoghi_geo.shape"
   ]
  },
  {
   "cell_type": "code",
   "execution_count": 106,
   "metadata": {},
   "outputs": [
    {
     "data": {
      "text/html": [
       "<div>\n",
       "<style scoped>\n",
       "    .dataframe tbody tr th:only-of-type {\n",
       "        vertical-align: middle;\n",
       "    }\n",
       "\n",
       "    .dataframe tbody tr th {\n",
       "        vertical-align: top;\n",
       "    }\n",
       "\n",
       "    .dataframe thead th {\n",
       "        text-align: right;\n",
       "    }\n",
       "</style>\n",
       "<table border=\"1\" class=\"dataframe\">\n",
       "  <thead>\n",
       "    <tr style=\"text-align: right;\">\n",
       "      <th></th>\n",
       "      <th>Unnamed: 0</th>\n",
       "      <th>formatted_address</th>\n",
       "      <th>google_place_id</th>\n",
       "      <th>input_string</th>\n",
       "      <th>lat</th>\n",
       "      <th>lon</th>\n",
       "      <th>name</th>\n",
       "    </tr>\n",
       "  </thead>\n",
       "  <tbody>\n",
       "    <tr>\n",
       "      <th>0</th>\n",
       "      <td>0</td>\n",
       "      <td>Piazza Municipio, 1, 83021 Avella AV, Italia</td>\n",
       "      <td>ChIJfdZh2f5KOhMRpfBBkRLlfaY</td>\n",
       "      <td>Antiquarium di Avella,Avella</td>\n",
       "      <td>40.960636</td>\n",
       "      <td>14.599655</td>\n",
       "      <td>Comune di Avella</td>\n",
       "    </tr>\n",
       "    <tr>\n",
       "      <th>1</th>\n",
       "      <td>1</td>\n",
       "      <td>Località Poggio Renzo, 53043 Chiusi SI, Italia</td>\n",
       "      <td>ChIJZfVC_cZRKRMRkuJtL_tv3vw</td>\n",
       "      <td>Necropoli di Poggio Renzo,Chiusi</td>\n",
       "      <td>43.030433</td>\n",
       "      <td>11.952198</td>\n",
       "      <td>Tomba della Scimmia</td>\n",
       "    </tr>\n",
       "    <tr>\n",
       "      <th>2</th>\n",
       "      <td>2</td>\n",
       "      <td>Via Pieve di S. Siro, 4, 25044 Capo di ponte B...</td>\n",
       "      <td>ChIJTb93AmrKg0cRr3l2RKXceE0</td>\n",
       "      <td>Parco archeologico nazionale dei Massi di Cemm...</td>\n",
       "      <td>46.031448</td>\n",
       "      <td>10.338518</td>\n",
       "      <td>Parco archeologico nazionale dei Massi di Cemmo</td>\n",
       "    </tr>\n",
       "    <tr>\n",
       "      <th>3</th>\n",
       "      <td>3</td>\n",
       "      <td>84047 Capaccio SA, Italia</td>\n",
       "      <td>ChIJN1Hb4xPjOxMROZaFrnw2xqg</td>\n",
       "      <td>Parco Archeologico di Paestum  Area archeologi...</td>\n",
       "      <td>40.488640</td>\n",
       "      <td>14.969323</td>\n",
       "      <td>Heraion alla Foce del Sele</td>\n",
       "    </tr>\n",
       "  </tbody>\n",
       "</table>\n",
       "</div>"
      ],
      "text/plain": [
       "   Unnamed: 0                                  formatted_address  \\\n",
       "0           0       Piazza Municipio, 1, 83021 Avella AV, Italia   \n",
       "1           1     Località Poggio Renzo, 53043 Chiusi SI, Italia   \n",
       "2           2  Via Pieve di S. Siro, 4, 25044 Capo di ponte B...   \n",
       "3           3                          84047 Capaccio SA, Italia   \n",
       "\n",
       "               google_place_id  \\\n",
       "0  ChIJfdZh2f5KOhMRpfBBkRLlfaY   \n",
       "1  ChIJZfVC_cZRKRMRkuJtL_tv3vw   \n",
       "2  ChIJTb93AmrKg0cRr3l2RKXceE0   \n",
       "3  ChIJN1Hb4xPjOxMROZaFrnw2xqg   \n",
       "\n",
       "                                        input_string        lat        lon  \\\n",
       "0                       Antiquarium di Avella,Avella  40.960636  14.599655   \n",
       "1                   Necropoli di Poggio Renzo,Chiusi  43.030433  11.952198   \n",
       "2  Parco archeologico nazionale dei Massi di Cemm...  46.031448  10.338518   \n",
       "3  Parco Archeologico di Paestum  Area archeologi...  40.488640  14.969323   \n",
       "\n",
       "                                              name  \n",
       "0                                 Comune di Avella  \n",
       "1                              Tomba della Scimmia  \n",
       "2  Parco archeologico nazionale dei Massi di Cemmo  \n",
       "3                       Heraion alla Foce del Sele  "
      ]
     },
     "execution_count": 106,
     "metadata": {},
     "output_type": "execute_result"
    }
   ],
   "source": [
    "luoghi_geo.head(4)"
   ]
  },
  {
   "cell_type": "markdown",
   "metadata": {},
   "source": [
    "### Join tra dataset luoghi della cultura e dataset geonormalizzato \n",
    "\n",
    "I due campi su cui andare in join sono \"Nome_Istituzionale_Comune\" e \"input_string\""
   ]
  },
  {
   "cell_type": "code",
   "execution_count": 17,
   "metadata": {},
   "outputs": [
    {
     "data": {
      "text/plain": [
       "Index(['subject', 'Nome_Istituzionale', 'Descrizione', 'Description',\n",
       "       'ISILIdentifier', 'Latitudine', 'Longitudine', 'Disciplina',\n",
       "       'Tipo_luogo', 'Indirizzo', 'Codice_postale', 'Comune', 'Provincia',\n",
       "       'Prenotazioni', 'Orari_di_apertura', 'Telefono', 'Fax', 'Email',\n",
       "       'WebSite', 'Biglietti', 'Servizi', 'Nome_Istituzionale_Comune'],\n",
       "      dtype='object')"
      ]
     },
     "execution_count": 17,
     "metadata": {},
     "output_type": "execute_result"
    }
   ],
   "source": [
    "lc.columns"
   ]
  },
  {
   "cell_type": "code",
   "execution_count": 19,
   "metadata": {},
   "outputs": [
    {
     "data": {
      "text/plain": [
       "Index(['Unnamed: 0', 'formatted_address', 'google_place_id', 'input_string',\n",
       "       'lat', 'lon', 'name'],\n",
       "      dtype='object')"
      ]
     },
     "execution_count": 19,
     "metadata": {},
     "output_type": "execute_result"
    }
   ],
   "source": [
    "luoghi_geo.columns"
   ]
  },
  {
   "cell_type": "code",
   "execution_count": 20,
   "metadata": {},
   "outputs": [],
   "source": [
    "luoghi = lc.merge(luoghi_geo, left_on=\"Nome_Istituzionale_Comune\", right_on=\"input_string\", how=\"inner\")"
   ]
  },
  {
   "cell_type": "markdown",
   "metadata": {},
   "source": [
    "### Check inner join "
   ]
  },
  {
   "cell_type": "code",
   "execution_count": 27,
   "metadata": {},
   "outputs": [
    {
     "data": {
      "text/plain": [
       "(6620, 7)"
      ]
     },
     "execution_count": 27,
     "metadata": {},
     "output_type": "execute_result"
    }
   ],
   "source": [
    "luoghi_geo.shape"
   ]
  },
  {
   "cell_type": "code",
   "execution_count": 29,
   "metadata": {},
   "outputs": [
    {
     "data": {
      "text/plain": [
       "(52392, 22)"
      ]
     },
     "execution_count": 29,
     "metadata": {},
     "output_type": "execute_result"
    }
   ],
   "source": [
    "lc.shape"
   ]
  },
  {
   "cell_type": "code",
   "execution_count": 26,
   "metadata": {},
   "outputs": [
    {
     "data": {
      "text/plain": [
       "(52392, 27)"
      ]
     },
     "execution_count": 26,
     "metadata": {},
     "output_type": "execute_result"
    }
   ],
   "source": [
    "# dataset finale\n",
    "luoghi.shape"
   ]
  },
  {
   "cell_type": "code",
   "execution_count": 23,
   "metadata": {},
   "outputs": [
    {
     "data": {
      "text/html": [
       "<div>\n",
       "<style scoped>\n",
       "    .dataframe tbody tr th:only-of-type {\n",
       "        vertical-align: middle;\n",
       "    }\n",
       "\n",
       "    .dataframe tbody tr th {\n",
       "        vertical-align: top;\n",
       "    }\n",
       "\n",
       "    .dataframe thead th {\n",
       "        text-align: right;\n",
       "    }\n",
       "</style>\n",
       "<table border=\"1\" class=\"dataframe\">\n",
       "  <thead>\n",
       "    <tr style=\"text-align: right;\">\n",
       "      <th></th>\n",
       "      <th>0</th>\n",
       "      <th>1</th>\n",
       "      <th>2</th>\n",
       "      <th>3</th>\n",
       "    </tr>\n",
       "  </thead>\n",
       "  <tbody>\n",
       "    <tr>\n",
       "      <th>subject</th>\n",
       "      <td>http://dati.beniculturali.it/mibact/luoghi/res...</td>\n",
       "      <td>http://dati.beniculturali.it/mibact/luoghi/res...</td>\n",
       "      <td>http://dati.beniculturali.it/mibact/luoghi/res...</td>\n",
       "      <td>http://dati.beniculturali.it/mibact/luoghi/res...</td>\n",
       "    </tr>\n",
       "    <tr>\n",
       "      <th>Nome_Istituzionale</th>\n",
       "      <td>Museo civico aufidenate \"Antonio De Nino\"</td>\n",
       "      <td>Museo civico etnografico di Castel del Monte</td>\n",
       "      <td>Museo civico etnografico di Castel del Monte</td>\n",
       "      <td>Museo civico aufidenate</td>\n",
       "    </tr>\n",
       "    <tr>\n",
       "      <th>Descrizione</th>\n",
       "      <td>&lt;div&gt;Il museo, fondato nel 1897, conserva i re...</td>\n",
       "      <td>L'antico borgo, sorto sulle pendici delle mont...</td>\n",
       "      <td>L'antico borgo, sorto sulle pendici delle mont...</td>\n",
       "      <td>&lt;div&gt;Il Museo Civico Aufidenate è ospitato nel...</td>\n",
       "    </tr>\n",
       "    <tr>\n",
       "      <th>Description</th>\n",
       "      <td>&lt;div&gt;The museum, founded in 1897, contains the...</td>\n",
       "      <td>&lt;div&gt;The center of old town, built at the foot...</td>\n",
       "      <td>&lt;div&gt;The center of old town, built at the foot...</td>\n",
       "      <td>&lt;div&gt;Aufidena's Municipal Museum is set inside...</td>\n",
       "    </tr>\n",
       "    <tr>\n",
       "      <th>ISILIdentifier</th>\n",
       "      <td>NaN</td>\n",
       "      <td>NaN</td>\n",
       "      <td>NaN</td>\n",
       "      <td>NaN</td>\n",
       "    </tr>\n",
       "    <tr>\n",
       "      <th>Latitudine</th>\n",
       "      <td>41.7342</td>\n",
       "      <td>42.3648</td>\n",
       "      <td>42.3648</td>\n",
       "      <td>41.7843</td>\n",
       "    </tr>\n",
       "    <tr>\n",
       "      <th>Longitudine</th>\n",
       "      <td>14.0325</td>\n",
       "      <td>13.7267</td>\n",
       "      <td>13.7267</td>\n",
       "      <td>14.1083</td>\n",
       "    </tr>\n",
       "    <tr>\n",
       "      <th>Disciplina</th>\n",
       "      <td>Archeologia</td>\n",
       "      <td>Etnografia e antropologia</td>\n",
       "      <td>Etnografia e antropologia</td>\n",
       "      <td>Archeologia</td>\n",
       "    </tr>\n",
       "    <tr>\n",
       "      <th>Tipo_luogo</th>\n",
       "      <td>Museo, galleria non a scopo di lucro e/o raccolta</td>\n",
       "      <td>Museo, galleria non a scopo di lucro e/o raccolta</td>\n",
       "      <td>Museo, galleria non a scopo di lucro e/o raccolta</td>\n",
       "      <td>Museo, galleria non a scopo di lucro e/o raccolta</td>\n",
       "    </tr>\n",
       "    <tr>\n",
       "      <th>Indirizzo</th>\n",
       "      <td>Viale Mansueto De Amicis, SNC - Alfedena</td>\n",
       "      <td>Via del Municipio, 5 - Castel del Monte</td>\n",
       "      <td>Via del Municipio, 5 - Castel del Monte</td>\n",
       "      <td>Contrada della Maddalena, SNC - Castel di Sangro</td>\n",
       "    </tr>\n",
       "    <tr>\n",
       "      <th>Codice_postale</th>\n",
       "      <td>67030</td>\n",
       "      <td>67023</td>\n",
       "      <td>67023</td>\n",
       "      <td>67031</td>\n",
       "    </tr>\n",
       "    <tr>\n",
       "      <th>Comune</th>\n",
       "      <td>Alfedena</td>\n",
       "      <td>Castel del Monte</td>\n",
       "      <td>Castel del Monte</td>\n",
       "      <td>Castel di Sangro</td>\n",
       "    </tr>\n",
       "    <tr>\n",
       "      <th>Provincia</th>\n",
       "      <td>L'Aquila</td>\n",
       "      <td>L'Aquila</td>\n",
       "      <td>L'Aquila</td>\n",
       "      <td>L'Aquila</td>\n",
       "    </tr>\n",
       "    <tr>\n",
       "      <th>Prenotazioni</th>\n",
       "      <td>Nessuna</td>\n",
       "      <td>Nessuna</td>\n",
       "      <td>Nessuna</td>\n",
       "      <td>Nessuna</td>\n",
       "    </tr>\n",
       "    <tr>\n",
       "      <th>Orari_di_apertura</th>\n",
       "      <td>NaN</td>\n",
       "      <td>Su prenotazione</td>\n",
       "      <td>Su prenotazione</td>\n",
       "      <td>Lunedì e Martedì</td>\n",
       "    </tr>\n",
       "    <tr>\n",
       "      <th>Telefono</th>\n",
       "      <td>0864 87114</td>\n",
       "      <td>0862938404 / 3391104473 / 3338089883</td>\n",
       "      <td>NaN</td>\n",
       "      <td>0864840826</td>\n",
       "    </tr>\n",
       "    <tr>\n",
       "      <th>Fax</th>\n",
       "      <td>0864 87432</td>\n",
       "      <td>0862938180</td>\n",
       "      <td>NaN</td>\n",
       "      <td>0864840826</td>\n",
       "    </tr>\n",
       "    <tr>\n",
       "      <th>Email</th>\n",
       "      <td>mailto:protocollo@comune.alfedena.aq.it</td>\n",
       "      <td>mailto:casteldelmonte@tin.it</td>\n",
       "      <td>NaN</td>\n",
       "      <td>mailto:archeoclub@email.it</td>\n",
       "    </tr>\n",
       "    <tr>\n",
       "      <th>WebSite</th>\n",
       "      <td>http://www.comune.alfedena.aq.it</td>\n",
       "      <td>NaN</td>\n",
       "      <td>NaN</td>\n",
       "      <td>http://www.altosangro.com/museoaufidenate</td>\n",
       "    </tr>\n",
       "    <tr>\n",
       "      <th>Biglietti</th>\n",
       "      <td>NaN</td>\n",
       "      <td>scolaresche: € 2.00 cad; gruppi fino a 20 peso...</td>\n",
       "      <td>scolaresche: € 2.00 cad; gruppi fino a 20 peso...</td>\n",
       "      <td>€ 1,50</td>\n",
       "    </tr>\n",
       "    <tr>\n",
       "      <th>Servizi</th>\n",
       "      <td>NaN</td>\n",
       "      <td>NaN</td>\n",
       "      <td>NaN</td>\n",
       "      <td>NaN</td>\n",
       "    </tr>\n",
       "    <tr>\n",
       "      <th>Nome_Istituzionale_Comune</th>\n",
       "      <td>Museo civico aufidenate Antonio De Nino ,Alfedena</td>\n",
       "      <td>Museo civico etnografico di Castel del Monte,C...</td>\n",
       "      <td>Museo civico etnografico di Castel del Monte,C...</td>\n",
       "      <td>Museo civico aufidenate,Castel di Sangro</td>\n",
       "    </tr>\n",
       "    <tr>\n",
       "      <th>Unnamed: 0</th>\n",
       "      <td>0</td>\n",
       "      <td>1</td>\n",
       "      <td>1</td>\n",
       "      <td>2</td>\n",
       "    </tr>\n",
       "    <tr>\n",
       "      <th>formatted_address</th>\n",
       "      <td>Strada Statale 83 Marsicana, 38, 67030 Alfeden...</td>\n",
       "      <td>Strada Statale 170, 76123 Località Castel Del ...</td>\n",
       "      <td>Strada Statale 170, 76123 Località Castel Del ...</td>\n",
       "      <td>67031 Castel di Sangro AQ, Italia</td>\n",
       "    </tr>\n",
       "    <tr>\n",
       "      <th>google_place_id</th>\n",
       "      <td>ChIJF6Ojsu92MBMR3QV2FjUFt0s</td>\n",
       "      <td>ChIJAQAwbkYTOBMR9QzHk9rzCGY</td>\n",
       "      <td>ChIJAQAwbkYTOBMR9QzHk9rzCGY</td>\n",
       "      <td>ChIJbyllkXl6MBMRrjnOkLTHSKI</td>\n",
       "    </tr>\n",
       "    <tr>\n",
       "      <th>input_string</th>\n",
       "      <td>Museo civico aufidenate Antonio De Nino ,Alfedena</td>\n",
       "      <td>Museo civico etnografico di Castel del Monte,C...</td>\n",
       "      <td>Museo civico etnografico di Castel del Monte,C...</td>\n",
       "      <td>Museo civico aufidenate,Castel di Sangro</td>\n",
       "    </tr>\n",
       "    <tr>\n",
       "      <th>lat</th>\n",
       "      <td>41.7373</td>\n",
       "      <td>41.0848</td>\n",
       "      <td>41.0848</td>\n",
       "      <td>41.788</td>\n",
       "    </tr>\n",
       "    <tr>\n",
       "      <th>lon</th>\n",
       "      <td>14.0392</td>\n",
       "      <td>16.2708</td>\n",
       "      <td>16.2708</td>\n",
       "      <td>14.1028</td>\n",
       "    </tr>\n",
       "    <tr>\n",
       "      <th>name</th>\n",
       "      <td>Museo Sannitico Aufidenate \"Antonio De Nino\"</td>\n",
       "      <td>Castel del Monte</td>\n",
       "      <td>Castel del Monte</td>\n",
       "      <td>Museo civico aufidenate</td>\n",
       "    </tr>\n",
       "  </tbody>\n",
       "</table>\n",
       "</div>"
      ],
      "text/plain": [
       "                                                                           0  \\\n",
       "subject                    http://dati.beniculturali.it/mibact/luoghi/res...   \n",
       "Nome_Istituzionale                 Museo civico aufidenate \"Antonio De Nino\"   \n",
       "Descrizione                <div>Il museo, fondato nel 1897, conserva i re...   \n",
       "Description                <div>The museum, founded in 1897, contains the...   \n",
       "ISILIdentifier                                                           NaN   \n",
       "Latitudine                                                           41.7342   \n",
       "Longitudine                                                          14.0325   \n",
       "Disciplina                                                       Archeologia   \n",
       "Tipo_luogo                 Museo, galleria non a scopo di lucro e/o raccolta   \n",
       "Indirizzo                           Viale Mansueto De Amicis, SNC - Alfedena   \n",
       "Codice_postale                                                         67030   \n",
       "Comune                                                              Alfedena   \n",
       "Provincia                                                           L'Aquila   \n",
       "Prenotazioni                                                         Nessuna   \n",
       "Orari_di_apertura                                                        NaN   \n",
       "Telefono                                                          0864 87114   \n",
       "Fax                                                               0864 87432   \n",
       "Email                                mailto:protocollo@comune.alfedena.aq.it   \n",
       "WebSite                                     http://www.comune.alfedena.aq.it   \n",
       "Biglietti                                                                NaN   \n",
       "Servizi                                                                  NaN   \n",
       "Nome_Istituzionale_Comune  Museo civico aufidenate Antonio De Nino ,Alfedena   \n",
       "Unnamed: 0                                                                 0   \n",
       "formatted_address          Strada Statale 83 Marsicana, 38, 67030 Alfeden...   \n",
       "google_place_id                                  ChIJF6Ojsu92MBMR3QV2FjUFt0s   \n",
       "input_string               Museo civico aufidenate Antonio De Nino ,Alfedena   \n",
       "lat                                                                  41.7373   \n",
       "lon                                                                  14.0392   \n",
       "name                            Museo Sannitico Aufidenate \"Antonio De Nino\"   \n",
       "\n",
       "                                                                           1  \\\n",
       "subject                    http://dati.beniculturali.it/mibact/luoghi/res...   \n",
       "Nome_Istituzionale              Museo civico etnografico di Castel del Monte   \n",
       "Descrizione                L'antico borgo, sorto sulle pendici delle mont...   \n",
       "Description                <div>The center of old town, built at the foot...   \n",
       "ISILIdentifier                                                           NaN   \n",
       "Latitudine                                                           42.3648   \n",
       "Longitudine                                                          13.7267   \n",
       "Disciplina                                         Etnografia e antropologia   \n",
       "Tipo_luogo                 Museo, galleria non a scopo di lucro e/o raccolta   \n",
       "Indirizzo                            Via del Municipio, 5 - Castel del Monte   \n",
       "Codice_postale                                                         67023   \n",
       "Comune                                                      Castel del Monte   \n",
       "Provincia                                                           L'Aquila   \n",
       "Prenotazioni                                                         Nessuna   \n",
       "Orari_di_apertura                                            Su prenotazione   \n",
       "Telefono                                0862938404 / 3391104473 / 3338089883   \n",
       "Fax                                                               0862938180   \n",
       "Email                                           mailto:casteldelmonte@tin.it   \n",
       "WebSite                                                                  NaN   \n",
       "Biglietti                  scolaresche: € 2.00 cad; gruppi fino a 20 peso...   \n",
       "Servizi                                                                  NaN   \n",
       "Nome_Istituzionale_Comune  Museo civico etnografico di Castel del Monte,C...   \n",
       "Unnamed: 0                                                                 1   \n",
       "formatted_address          Strada Statale 170, 76123 Località Castel Del ...   \n",
       "google_place_id                                  ChIJAQAwbkYTOBMR9QzHk9rzCGY   \n",
       "input_string               Museo civico etnografico di Castel del Monte,C...   \n",
       "lat                                                                  41.0848   \n",
       "lon                                                                  16.2708   \n",
       "name                                                        Castel del Monte   \n",
       "\n",
       "                                                                           2  \\\n",
       "subject                    http://dati.beniculturali.it/mibact/luoghi/res...   \n",
       "Nome_Istituzionale              Museo civico etnografico di Castel del Monte   \n",
       "Descrizione                L'antico borgo, sorto sulle pendici delle mont...   \n",
       "Description                <div>The center of old town, built at the foot...   \n",
       "ISILIdentifier                                                           NaN   \n",
       "Latitudine                                                           42.3648   \n",
       "Longitudine                                                          13.7267   \n",
       "Disciplina                                         Etnografia e antropologia   \n",
       "Tipo_luogo                 Museo, galleria non a scopo di lucro e/o raccolta   \n",
       "Indirizzo                            Via del Municipio, 5 - Castel del Monte   \n",
       "Codice_postale                                                         67023   \n",
       "Comune                                                      Castel del Monte   \n",
       "Provincia                                                           L'Aquila   \n",
       "Prenotazioni                                                         Nessuna   \n",
       "Orari_di_apertura                                            Su prenotazione   \n",
       "Telefono                                                                 NaN   \n",
       "Fax                                                                      NaN   \n",
       "Email                                                                    NaN   \n",
       "WebSite                                                                  NaN   \n",
       "Biglietti                  scolaresche: € 2.00 cad; gruppi fino a 20 peso...   \n",
       "Servizi                                                                  NaN   \n",
       "Nome_Istituzionale_Comune  Museo civico etnografico di Castel del Monte,C...   \n",
       "Unnamed: 0                                                                 1   \n",
       "formatted_address          Strada Statale 170, 76123 Località Castel Del ...   \n",
       "google_place_id                                  ChIJAQAwbkYTOBMR9QzHk9rzCGY   \n",
       "input_string               Museo civico etnografico di Castel del Monte,C...   \n",
       "lat                                                                  41.0848   \n",
       "lon                                                                  16.2708   \n",
       "name                                                        Castel del Monte   \n",
       "\n",
       "                                                                           3  \n",
       "subject                    http://dati.beniculturali.it/mibact/luoghi/res...  \n",
       "Nome_Istituzionale                                   Museo civico aufidenate  \n",
       "Descrizione                <div>Il Museo Civico Aufidenate è ospitato nel...  \n",
       "Description                <div>Aufidena's Municipal Museum is set inside...  \n",
       "ISILIdentifier                                                           NaN  \n",
       "Latitudine                                                           41.7843  \n",
       "Longitudine                                                          14.1083  \n",
       "Disciplina                                                       Archeologia  \n",
       "Tipo_luogo                 Museo, galleria non a scopo di lucro e/o raccolta  \n",
       "Indirizzo                   Contrada della Maddalena, SNC - Castel di Sangro  \n",
       "Codice_postale                                                         67031  \n",
       "Comune                                                      Castel di Sangro  \n",
       "Provincia                                                           L'Aquila  \n",
       "Prenotazioni                                                         Nessuna  \n",
       "Orari_di_apertura                                           Lunedì e Martedì  \n",
       "Telefono                                                          0864840826  \n",
       "Fax                                                               0864840826  \n",
       "Email                                             mailto:archeoclub@email.it  \n",
       "WebSite                            http://www.altosangro.com/museoaufidenate  \n",
       "Biglietti                                                             € 1,50  \n",
       "Servizi                                                                  NaN  \n",
       "Nome_Istituzionale_Comune           Museo civico aufidenate,Castel di Sangro  \n",
       "Unnamed: 0                                                                 2  \n",
       "formatted_address                          67031 Castel di Sangro AQ, Italia  \n",
       "google_place_id                                  ChIJbyllkXl6MBMRrjnOkLTHSKI  \n",
       "input_string                        Museo civico aufidenate,Castel di Sangro  \n",
       "lat                                                                   41.788  \n",
       "lon                                                                  14.1028  \n",
       "name                                                 Museo civico aufidenate  "
      ]
     },
     "execution_count": 23,
     "metadata": {},
     "output_type": "execute_result"
    }
   ],
   "source": [
    "luoghi.head(4).T"
   ]
  },
  {
   "cell_type": "markdown",
   "metadata": {},
   "source": [
    "### Elimino le colonne duplicate e non necessarie \n",
    "- Unnamed: 0\t\n",
    "- input_string"
   ]
  },
  {
   "cell_type": "code",
   "execution_count": 24,
   "metadata": {},
   "outputs": [],
   "source": [
    "luoghi.drop(axis=1, columns=[\"Unnamed: 0\", \"input_string\"], inplace=True)"
   ]
  },
  {
   "cell_type": "code",
   "execution_count": 25,
   "metadata": {},
   "outputs": [
    {
     "data": {
      "text/plain": [
       "Index(['subject', 'Nome_Istituzionale', 'Descrizione', 'Description',\n",
       "       'ISILIdentifier', 'Latitudine', 'Longitudine', 'Disciplina',\n",
       "       'Tipo_luogo', 'Indirizzo', 'Codice_postale', 'Comune', 'Provincia',\n",
       "       'Prenotazioni', 'Orari_di_apertura', 'Telefono', 'Fax', 'Email',\n",
       "       'WebSite', 'Biglietti', 'Servizi', 'Nome_Istituzionale_Comune',\n",
       "       'formatted_address', 'google_place_id', 'lat', 'lon', 'name'],\n",
       "      dtype='object')"
      ]
     },
     "execution_count": 25,
     "metadata": {},
     "output_type": "execute_result"
    }
   ],
   "source": [
    "luoghi.columns"
   ]
  },
  {
   "cell_type": "markdown",
   "metadata": {},
   "source": [
    "### Check valori nulli Luoghi della cultura"
   ]
  },
  {
   "cell_type": "code",
   "execution_count": 1,
   "metadata": {},
   "outputs": [
    {
     "ename": "NameError",
     "evalue": "name 'luoghi' is not defined",
     "output_type": "error",
     "traceback": [
      "\u001b[0;31m---------------------------------------------------------------------------\u001b[0m",
      "\u001b[0;31mNameError\u001b[0m                                 Traceback (most recent call last)",
      "\u001b[0;32m<ipython-input-1-6af18d614e11>\u001b[0m in \u001b[0;36m<module>\u001b[0;34m()\u001b[0m\n\u001b[0;32m----> 1\u001b[0;31m \u001b[0mluoghi\u001b[0m\u001b[0;34m.\u001b[0m\u001b[0misnull\u001b[0m\u001b[0;34m.\u001b[0m\u001b[0msum\u001b[0m\u001b[0;34m(\u001b[0m\u001b[0;34m)\u001b[0m\u001b[0;34m\u001b[0m\u001b[0m\n\u001b[0m",
      "\u001b[0;31mNameError\u001b[0m: name 'luoghi' is not defined"
     ]
    }
   ],
   "source": [
    "luoghi.isnull.sum()"
   ]
  },
  {
   "cell_type": "markdown",
   "metadata": {},
   "source": [
    "### Salvo dataframe luoghi della cultura arricchito"
   ]
  },
  {
   "cell_type": "code",
   "execution_count": null,
   "metadata": {},
   "outputs": [],
   "source": [
    "luoghi.to_csv(\"../data/3_processed/LuoghiCulturaGeo.csv\", index=False)"
   ]
  }
 ],
 "metadata": {
  "kernelspec": {
   "display_name": "Python 3",
   "language": "python",
   "name": "python3"
  },
  "language_info": {
   "codemirror_mode": {
    "name": "ipython",
    "version": 3
   },
   "file_extension": ".py",
   "mimetype": "text/x-python",
   "name": "python",
   "nbconvert_exporter": "python",
   "pygments_lexer": "ipython3",
   "version": "3.6.7"
  }
 },
 "nbformat": 4,
 "nbformat_minor": 2
}
