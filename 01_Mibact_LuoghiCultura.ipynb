{
 "cells": [
  {
   "cell_type": "markdown",
   "metadata": {},
   "source": [
    "# MIBACT Luoghi della cultura\n",
    "## Data exploration\n"
   ]
  },
  {
   "cell_type": "markdown",
   "metadata": {},
   "source": [
    "## Luoghi della cultura\n",
    "\n",
    "I luoghi della cultura italiani raccolgono informazioni anagrafiche su: musei, aree archeologiche, monumenti, ville, etc. La banca dati viene manutenuta continuamente dal personale MiBAC e da personale e sistemi delle amministrazioni regionali.\n",
    "\n",
    "Gli unique sul campo sono circa 6.604 a fronte di 52.392 record scaricati."
   ]
  },
  {
   "cell_type": "code",
   "execution_count": 1,
   "metadata": {},
   "outputs": [],
   "source": [
    "import pandas as pd\n",
    "import numpy as np"
   ]
  },
  {
   "cell_type": "markdown",
   "metadata": {},
   "source": [
    "### Script per estrazione luoghi cultura \n",
    "\n",
    "Per completezza lo si riporta all'interno del notebook.\n",
    "\n",
    "inserire link a sorgente in repo"
   ]
  },
  {
   "cell_type": "code",
   "execution_count": 3,
   "metadata": {},
   "outputs": [
    {
     "name": "stdout",
     "output_type": "stream",
     "text": [
      "Querying MIBACT endpoint for \"Luoghi della cultura\" dataset\n",
      "Total number of records: 0\n"
     ]
    },
    {
     "ename": "IndexError",
     "evalue": "list index out of range",
     "output_type": "error",
     "traceback": [
      "\u001b[0;31m---------------------------------------------------------------------------\u001b[0m",
      "\u001b[0;31mIndexError\u001b[0m                                Traceback (most recent call last)",
      "\u001b[0;32m<ipython-input-3-a37809e2c7bf>\u001b[0m in \u001b[0;36m<module>\u001b[0;34m\u001b[0m\n\u001b[1;32m     47\u001b[0m \u001b[0;31m# recupero la riga di intestazione dal primo file per poterla aggiungere al file finale di output\u001b[0m\u001b[0;34m\u001b[0m\u001b[0;34m\u001b[0m\u001b[0;34m\u001b[0m\u001b[0m\n\u001b[1;32m     48\u001b[0m \u001b[0mheader\u001b[0m \u001b[0;34m=\u001b[0m \u001b[0;34m''\u001b[0m\u001b[0;34m\u001b[0m\u001b[0;34m\u001b[0m\u001b[0m\n\u001b[0;32m---> 49\u001b[0;31m \u001b[0;32mwith\u001b[0m \u001b[0mopen\u001b[0m\u001b[0;34m(\u001b[0m\u001b[0mtempfilenames\u001b[0m\u001b[0;34m[\u001b[0m\u001b[0;36m0\u001b[0m\u001b[0;34m]\u001b[0m\u001b[0;34m,\u001b[0m \u001b[0;34m'r'\u001b[0m\u001b[0;34m)\u001b[0m \u001b[0;32mas\u001b[0m \u001b[0mf\u001b[0m\u001b[0;34m:\u001b[0m\u001b[0;34m\u001b[0m\u001b[0;34m\u001b[0m\u001b[0m\n\u001b[0m\u001b[1;32m     50\u001b[0m     \u001b[0mheader\u001b[0m \u001b[0;34m=\u001b[0m \u001b[0mf\u001b[0m\u001b[0;34m.\u001b[0m\u001b[0mreadline\u001b[0m\u001b[0;34m(\u001b[0m\u001b[0;34m)\u001b[0m\u001b[0;34m\u001b[0m\u001b[0;34m\u001b[0m\u001b[0m\n\u001b[1;32m     51\u001b[0m \u001b[0;34m\u001b[0m\u001b[0m\n",
      "\u001b[0;31mIndexError\u001b[0m: list index out of range"
     ]
    }
   ],
   "source": [
    "import urllib.request\n",
    "import time\n",
    "import os\n",
    "import json\n",
    "import sys\n",
    "\n",
    "\n",
    "print('Querying MIBACT endpoint for \"Luoghi della cultura\" dataset')\n",
    "outfilepath = './data/mibact_luoghi_cultura_' + str(int(time.time())) + '.csv'\n",
    "\n",
    "sparql_endpoint = 'http://dati.beniculturali.it/sparql?default-graph-uri=&'\n",
    "\n",
    "# parametri per la paginazione\n",
    "limit = 10000\n",
    "offset = 0\n",
    "\n",
    "# select per le query\n",
    "select = 'select+*+'\n",
    "select_count = 'select+count(*)+as+%3Fc+'\n",
    "\n",
    "# corpo della query\n",
    "where = 'where+{+select+distinct+%3Fs+as+%3Fsubject+%3FNome_Istituzionale+%3FDescrizione+%3FDescription+%3FISILIdentifier+%3FLatitudine+%3FLongitudine+%3FDisciplina+%3FTipo_luogo+%3FIndirizzo+%3FCodice_postale+%3FComune+%3FProvincia+%3FPrenotazioni+%3FOrari_di_apertura+%3FTelefono+%3FFax+%3FEmail+%3FWebSite+str%28%3FBiglietti%29+as+%3FBiglietti+%3FServizi+where+%7B+graph+%3Chttp%3A%2F%2Fdati.beniculturali.it%2Fmibact%2Fluoghi%3E+%7B+%3Fs+rdf%3Atype+cis%3ACulturalInstituteOrSite+%3B+cis%3AinstitutionalName+%3FNome_Istituzionale+.+optional+%7B+%3Fs+cis%3Adescription+%3FDescrizione+.+filter%28lang%28%3FDescrizione%29+%3D+%22it%22+%7C%7C+lang%28%3FDescrizione%29+%3D+%22%22%29+%7D+optional+%7B+%3Fs+cis%3Adescription+%3FDescription+.+filter%28lang%28%3FDescription%29+%3D+%22en%22%29+%7D+optional+%7B+%3Fs+cis%3AISILIdentifier+%3FISILIdentifier+%7D+optional+%7B+%3Fs+geo%3Alat+%3FLatitudine+%7D+optional+%7B+%3Fs+geo%3Along+%3FLongitudine+%7D+optional+%7B+%3Fs+dc%3Atype+%3FTipo_luogo+%7D+optional+%7B+%3Fs+cis%3AhasDiscipline+%5Bcis%3Aname+%3FDisciplina%5D+%7D+optional+%7B+%3Fs+cis%3AhasSite+%5Bcis%3AhasAddress+%3Faddress+%5D+.+optional+%7B+%3Faddress+cis%3AfullAddress+%3FIndirizzo+%7D+optional+%7B+%3Faddress+cis%3ApostCode+%3FCodice_postale+%7D+optional+%7B+%3Faddress+cis%3ApostName+%3FComune+%7D+optional+%7B+%3Faddress+cis%3AadminUnitL2+%3FProvincia+%7D+%7D+optional+%7B%3Fs+cis%3AhasAccessCondition+%5Brdf%3Atype+cis%3ABooking+%3B+cis%3Aname+%3FPrenotazioni%5D+%7D+optional+%7B%3Fs+cis%3AhasAccessCondition+%5Brdf%3Atype+cis%3AOpeningHoursSpecification+%3B+cis%3Adescription+%3FOrari_di_apertura+%5D+%7D+optional+%7B+%3Fs+cis%3AhasContactPoint+%3FcontactPoint+.+optional+%7B+%3FcontactPoint+cis%3AhasTelephone+%3FTelefono+%7D+optional+%7B+%3FcontactPoint+cis%3AhasFax+%3FFax+%7D+optional+%7B+%3FcontactPoint+cis%3AhasEmail+%3FEmail+%7D+optional+%7B+%3FcontactPoint+cis%3AhasWebSite+%3FWebSite+%7D+%7D+optional+%7B+%3Fs+cis%3AhasTicket+%3Fticket+.+%3Foffer+cis%3Aincludes+%3Fticket+%3B+cis%3AhasPriceSpecification+%5Bcis%3AhasCurrencyValue+%3FBiglietti%5D+%7D+optional+%7B+%3Fs+cis%3AprovidesService+%5Bcis%3Aname+%3FServizi%5D+%7D+%7D+%7D+order+by+%3Fs+}'\n",
    "\n",
    "# formati della risposta\n",
    "format_json ='&format=application%2Fjson&timeout=0'\n",
    "format_csv ='&format=text%2Fcsv&timeout=0'\n",
    "\n",
    "# interrogazione per recuperare il numero di elementi\n",
    "query = 'query=' + select_count + where + format_json\n",
    "with urllib.request.urlopen(sparql_endpoint + query) as response:\n",
    "    res = response.read()\n",
    "res_json = json.loads(res.decode(\"utf-8\"))\n",
    "record_count = res_json.get('results').get('bindings')[0].get('c').get('value')\n",
    "print('Total number of records: ' + record_count)\n",
    "\n",
    "# scarico le singole pagine\n",
    "tempfilenames = []\n",
    "while offset < int(record_count):\n",
    "    query = 'query=' + select + where + 'limit+' + str(limit) + '+offset+' + str(offset) + format_csv\n",
    "    filename = outfilepath + '.' + str(offset)\n",
    "    tempfilenames.append(filename)\n",
    "    print('Fetching {} record with offset {} in {}'.format(str(limit), str(offset), filename))\n",
    "    #TODO: gestire eccezioni\n",
    "    local_filename, headers = urllib.request.urlretrieve(sparql_endpoint + query, filename)\n",
    "    offset += limit\n",
    "\n",
    "# recupero la riga di intestazione dal primo file per poterla aggiungere al file finale di output\n",
    "header = ''\n",
    "with open(tempfilenames[0], 'r') as f:\n",
    "    header = f.readline()\n",
    "\n",
    "# unisco i file in un unico csv, saltando la riga di intestazione\n",
    "with open(outfilepath, 'a') as outfile:\n",
    "    outfile.write(header)\n",
    "    for filename in tempfilenames:\n",
    "        with open(filename, 'r') as infile:\n",
    "            next(infile)\n",
    "            for line in infile:\n",
    "                outfile.write(line)\n",
    "print('Results collected in ' + outfilepath)\n"
   ]
  },
  {
   "cell_type": "markdown",
   "metadata": {},
   "source": [
    "### Carico il dataset estratto da script "
   ]
  },
  {
   "cell_type": "code",
   "execution_count": 104,
   "metadata": {},
   "outputs": [
    {
     "data": {
      "text/plain": [
       "(6620, 1)"
      ]
     },
     "execution_count": 104,
     "metadata": {},
     "output_type": "execute_result"
    }
   ],
   "source": [
    "df.shape"
   ]
  },
  {
   "cell_type": "code",
   "execution_count": 90,
   "metadata": {},
   "outputs": [
    {
     "name": "stdout",
     "output_type": "stream",
     "text": [
      "Shape: (1000, 1); RangeIndex(start=0, stop=1000, step=1)\n",
      "Shape: (1000, 1); RangeIndex(start=1000, stop=2000, step=1)\n",
      "Shape: (1000, 1); RangeIndex(start=2000, stop=3000, step=1)\n",
      "Shape: (1000, 1); RangeIndex(start=3000, stop=4000, step=1)\n",
      "Shape: (1000, 1); RangeIndex(start=4000, stop=5000, step=1)\n",
      "Shape: (1000, 1); RangeIndex(start=5000, stop=6000, step=1)\n",
      "Shape: (620, 1); RangeIndex(start=6000, stop=6620, step=1)\n"
     ]
    }
   ],
   "source": [
    "def index_marks(nrows, chunk_size):\n",
    "    return range(1 * chunk_size, (nrows // chunk_size + 1) * chunk_size, chunk_size)\n",
    "\n",
    "def split(dfm, chunk_size):\n",
    "    indices = index_marks(dfm.shape[0], chunk_size)\n",
    "    return np.split(dfm, indices)"
   ]
  },
  {
   "cell_type": "code",
   "execution_count": null,
   "metadata": {},
   "outputs": [],
   "source": [
    "chunks = split(df, 1000)\n",
    "\n",
    "for c in chunks:\n",
    "    c.to_csv(\"../data/2_raw_geo/LuoghiCulturaUnique\"+str(c.index)+\".csv\", index=False)\n",
    "    print(\"Shape: {}; {}\".format(c.shape, c.index))"
   ]
  }
 ],
 "metadata": {
  "kernelspec": {
   "display_name": "Python [conda env:py36]",
   "language": "python",
   "name": "conda-env-py36-py"
  },
  "language_info": {
   "codemirror_mode": {
    "name": "ipython",
    "version": 3
   },
   "file_extension": ".py",
   "mimetype": "text/x-python",
   "name": "python",
   "nbconvert_exporter": "python",
   "pygments_lexer": "ipython3",
   "version": "3.6.7"
  }
 },
 "nbformat": 4,
 "nbformat_minor": 2
}
